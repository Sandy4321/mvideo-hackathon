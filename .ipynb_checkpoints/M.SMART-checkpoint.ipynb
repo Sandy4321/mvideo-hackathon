{
 "cells": [
  {
   "cell_type": "markdown",
   "metadata": {},
   "source": [
    "# M.SMART Хактатон\n",
    "\n",
    "Хакатон **М.Видео** по обработке естественного языка и использованию искусственного интеллекта для работы с клиентами. \n",
    "\n",
    "\n",
    "**Цель:** Предсказание общей оценки товара\n",
    "\n",
    "\n",
    "**Данные:** Данные: отзывы о товарах с сайта mvideo.ru, оценки, которые поставлены авторами отзыва, категория и брэнд товара. \n",
    "\n",
    "[Cкачать данные](http://hackathon.mvideo.ru/files/feedback.csv.rar)"
   ]
  },
  {
   "cell_type": "markdown",
   "metadata": {},
   "source": [
    "## Анализ датасета"
   ]
  },
  {
   "cell_type": "code",
   "execution_count": 3,
   "metadata": {
    "collapsed": true
   },
   "outputs": [],
   "source": [
    "import pandas\n",
    "import numpy as np\n",
    "import scipy as sp\n",
    "\n",
    "from matplotlib import pyplot as plt\n",
    "%matplotlib inline"
   ]
  },
  {
   "cell_type": "code",
   "execution_count": 2,
   "metadata": {
    "scrolled": true
   },
   "outputs": [
    {
     "data": {
      "text/html": [
       "<div>\n",
       "<style>\n",
       "    .dataframe thead tr:only-child th {\n",
       "        text-align: right;\n",
       "    }\n",
       "\n",
       "    .dataframe thead th {\n",
       "        text-align: left;\n",
       "    }\n",
       "\n",
       "    .dataframe tbody tr th {\n",
       "        vertical-align: top;\n",
       "    }\n",
       "</style>\n",
       "<table border=\"1\" class=\"dataframe\">\n",
       "  <thead>\n",
       "    <tr style=\"text-align: right;\">\n",
       "      <th></th>\n",
       "      <th>sku</th>\n",
       "      <th>categoryLevel1Id</th>\n",
       "      <th>categoryLevel2Id</th>\n",
       "      <th>brandId</th>\n",
       "      <th>property</th>\n",
       "      <th>userName</th>\n",
       "      <th>reting</th>\n",
       "      <th>date</th>\n",
       "      <th>comment</th>\n",
       "      <th>commentNegative</th>\n",
       "      <th>commentPositive</th>\n",
       "    </tr>\n",
       "  </thead>\n",
       "  <tbody>\n",
       "    <tr>\n",
       "      <th>0</th>\n",
       "      <td>20005023</td>\n",
       "      <td>401</td>\n",
       "      <td>4010201</td>\n",
       "      <td>826</td>\n",
       "      <td>[{34: 'f982777489055c6563d68c005fd24aad'}, {36...</td>\n",
       "      <td>b2898a81b45310b30beb8fc0c0a9ce1e</td>\n",
       "      <td>2.0</td>\n",
       "      <td>2013-06-28</td>\n",
       "      <td>2,5 года работала и все...устала! Лампочка гор...</td>\n",
       "      <td>NaN</td>\n",
       "      <td>NaN</td>\n",
       "    </tr>\n",
       "    <tr>\n",
       "      <th>1</th>\n",
       "      <td>20020647</td>\n",
       "      <td>403</td>\n",
       "      <td>4030101</td>\n",
       "      <td>1425</td>\n",
       "      <td>[{34: '9ce895413ebdf6b6dcb69b07dc782591'}, {36...</td>\n",
       "      <td>538c73d64461e13907bb95c51c38bfbc</td>\n",
       "      <td>2.0</td>\n",
       "      <td>2010-07-04</td>\n",
       "      <td>Через 2 месяца после истечении гарантийного ср...</td>\n",
       "      <td>NaN</td>\n",
       "      <td>NaN</td>\n",
       "    </tr>\n",
       "  </tbody>\n",
       "</table>\n",
       "</div>"
      ],
      "text/plain": [
       "        sku  categoryLevel1Id  categoryLevel2Id  brandId  \\\n",
       "0  20005023               401           4010201      826   \n",
       "1  20020647               403           4030101     1425   \n",
       "\n",
       "                                            property  \\\n",
       "0  [{34: 'f982777489055c6563d68c005fd24aad'}, {36...   \n",
       "1  [{34: '9ce895413ebdf6b6dcb69b07dc782591'}, {36...   \n",
       "\n",
       "                           userName  reting        date  \\\n",
       "0  b2898a81b45310b30beb8fc0c0a9ce1e     2.0  2013-06-28   \n",
       "1  538c73d64461e13907bb95c51c38bfbc     2.0  2010-07-04   \n",
       "\n",
       "                                             comment commentNegative  \\\n",
       "0  2,5 года работала и все...устала! Лампочка гор...             NaN   \n",
       "1  Через 2 месяца после истечении гарантийного ср...             NaN   \n",
       "\n",
       "  commentPositive  \n",
       "0             NaN  \n",
       "1             NaN  "
      ]
     },
     "execution_count": 2,
     "metadata": {},
     "output_type": "execute_result"
    }
   ],
   "source": [
    "data = pandas.read_csv(\"X_train.csv\")\n",
    "data.head(2)"
   ]
  },
  {
   "cell_type": "markdown",
   "metadata": {},
   "source": [
    "### Описание полей\n",
    "\n",
    "* **sku** - Уникальный id товара\n",
    "* **categoryLevel1Id** - id категории товара\n",
    "* **categoryLevel2Id** - id подкатегории товара\n",
    "* **brandId** - id бренда товара\n",
    "* **userName** - id пользователя\n",
    "* **date** - дата комментария\n",
    "* **reting** - рейтинг товара, который поставил пользователь\n",
    "* **comment** - текст комментария\n",
    "* **commentNegative**/**commentNegative** - позитивная и негативные комментарии к товару"
   ]
  },
  {
   "cell_type": "markdown",
   "metadata": {},
   "source": [
    "### Общая информация о датасете"
   ]
  },
  {
   "cell_type": "code",
   "execution_count": 3,
   "metadata": {
    "scrolled": false
   },
   "outputs": [
    {
     "name": "stdout",
     "output_type": "stream",
     "text": [
      "<class 'pandas.core.frame.DataFrame'>\n",
      "RangeIndex: 15587 entries, 0 to 15586\n",
      "Data columns (total 11 columns):\n",
      "sku                 15587 non-null int64\n",
      "categoryLevel1Id    15587 non-null int64\n",
      "categoryLevel2Id    15587 non-null int64\n",
      "brandId             15587 non-null int64\n",
      "property            15587 non-null object\n",
      "userName            15587 non-null object\n",
      "reting              15587 non-null float64\n",
      "date                15587 non-null object\n",
      "comment             15587 non-null object\n",
      "commentNegative     924 non-null object\n",
      "commentPositive     923 non-null object\n",
      "dtypes: float64(1), int64(4), object(6)\n",
      "memory usage: 1.3+ MB\n"
     ]
    }
   ],
   "source": [
    "data.info()"
   ]
  },
  {
   "cell_type": "code",
   "execution_count": 4,
   "metadata": {
    "scrolled": false
   },
   "outputs": [
    {
     "name": "stdout",
     "output_type": "stream",
     "text": [
      "Количество пользователей: 3232\n",
      "Количество товаров: 2698\n",
      "Количество брендов: 193\n",
      "Среднее количество комментариев у одного пользователя: 4.82271039604\n",
      "Медианное количество комментариев у одного пользователя: 1.0\n",
      "Максимальное количество комментариев у одного пользователя: 630\n"
     ]
    }
   ],
   "source": [
    "print(\"Количество пользователей:\", len(set(data[\"userName\"].get_values())))\n",
    "print(\"Количество товаров:\", len(set(data[\"sku\"].get_values())))\n",
    "print(\"Количество брендов:\", len(set(data[\"brandId\"].get_values())))\n",
    "comments_count = [data[data[\"userName\"] == uid].shape[0] for uid in set(data[\"userName\"].get_values())]\n",
    "print(\"Среднее количество комментариев у одного пользователя:\", np.mean(comments_count))\n",
    "print(\"Медианное количество комментариев у одного пользователя:\", np.median(comments_count))\n",
    "print(\"Максимальное количество комментариев у одного пользователя:\", np.max(comments_count))"
   ]
  },
  {
   "cell_type": "markdown",
   "metadata": {},
   "source": [
    "Из информации выше можно сделать следущий вывод - брать **id о пользователя** в качестве дополнительных параметров не рациаонально. \n",
    "У нас уже очень много пользователей в комментариях *(более 3 тысяч)*,их количество будет расти на продакшен проекте, однако это не касается **id брендов**, поскольку их ограниченое количество и появляются они не с такой регулярностью.\n",
    "\n",
    "Проверим корреляцию средней оценки пользователей с id бренда."
   ]
  },
  {
   "cell_type": "markdown",
   "metadata": {},
   "source": [
    "### Распределение оценки по брендам"
   ]
  },
  {
   "cell_type": "code",
   "execution_count": 5,
   "metadata": {
    "collapsed": true
   },
   "outputs": [],
   "source": [
    "brands = list(set(data[\"brandId\"].get_values()))\n",
    "mean_brand_reting = []\n",
    "median_brand_reting = []\n",
    "\n",
    "              \n",
    "for brand in brands:\n",
    "    brand_reting = data[data[\"brandId\"] == brand][\"reting\"]\n",
    "    mean_brand_reting.append(brand_reting.mean())\n",
    "    median_brand_reting.append(brand_reting.median())"
   ]
  },
  {
   "cell_type": "code",
   "execution_count": 6,
   "metadata": {},
   "outputs": [
    {
     "data": {
      "image/png": "[encoded data removed]",
      "text/plain": [
       "<matplotlib.figure.Figure at 0x7fd6bef13a90>"
      ]
     },
     "metadata": {},
     "output_type": "display_data"
    },
    {
     "data": {
      "image/png": "[encoded data removed]",
      "text/plain": [
       "<matplotlib.figure.Figure at 0x7fd73aab0fd0>"
      ]
     },
     "metadata": {},
     "output_type": "display_data"
    }
   ],
   "source": [
    "plt.title('Распределение средней оценки по брендам')\n",
    "plt.xlabel('Бренды')\n",
    "plt.ylabel('Оценка')\n",
    "plt.bar(list(range(0,len(mean_brand_reting))), sorted(mean_brand_reting))\n",
    "plt.show()\n",
    "\n",
    "plt.title('Распределение медианной оценки по брендам')\n",
    "plt.xlabel('Бренды')\n",
    "plt.ylabel('Оценка')\n",
    "plt.bar(list(range(0,len(median_brand_reting))), sorted(median_brand_reting))\n",
    "plt.show()"
   ]
  },
  {
   "cell_type": "markdown",
   "metadata": {},
   "source": [
    "Из графиков выше можно понять, что оценка товара сильно коррелируется с брендом и может послужить хорошим признаком для улучшения модели. Помимо этого, заметим, что медианные значения выглядят достаточно дискретно, что позволяет попробовать решить не только задачу в качестве регрессии, но задачу классификаци, для этого просмотрим распределение оценок пользователей по количеству."
   ]
  },
  {
   "cell_type": "markdown",
   "metadata": {},
   "source": [
    "### Распределение оценок пользователей"
   ]
  },
  {
   "cell_type": "code",
   "execution_count": 9,
   "metadata": {},
   "outputs": [
    {
     "data": {
      "image/png": "[encoded data removed]",
      "text/plain": [
       "<matplotlib.figure.Figure at 0x7fdf73367198>"
      ]
     },
     "metadata": {},
     "output_type": "display_data"
    },
    {
     "name": "stdout",
     "output_type": "stream",
     "text": [
      "Все виды оценок: {1.0, 2.0, 3.0, 4.7, 4.0, 5.0, 2.3, 2.7, 4.3, 3.3, 3.7, 1.3, 1.7}\n",
      "Количество видов оценок 13\n"
     ]
    }
   ],
   "source": [
    "plt.title('Распределение оценок')\n",
    "plt.xlabel('Оценка')\n",
    "plt.ylabel('Количество оценок')\n",
    "plt.hist(data[\"reting\"])\n",
    "plt.show()\n",
    "\n",
    "print(\"Все виды оценок:\", set(data[\"reting\"].get_values().tolist()))\n",
    "print(\"Количество видов оценок\", len(set(data[\"reting\"].get_values().tolist())))"
   ]
  },
  {
   "cell_type": "markdown",
   "metadata": {},
   "source": [
    "Поскольку количество оценок конечное - мы можем привести задачу к банальной классификации на 12 классов и сравнить ее с регрессией."
   ]
  },
  {
   "cell_type": "markdown",
   "metadata": {},
   "source": [
    "### Распределение оценок по категориям товаров"
   ]
  },
  {
   "cell_type": "markdown",
   "metadata": {},
   "source": [
    "Помимо данных о брендах у нас имеется информация о категориях и подкатегориях товаров, они могут нам значительно помочь поскольку средняя оценка на различные типы товаров может различаться."
   ]
  },
  {
   "cell_type": "code",
   "execution_count": 10,
   "metadata": {
    "collapsed": true
   },
   "outputs": [],
   "source": [
    "categories = list(set(data[\"categoryLevel1Id\"].get_values()))\n",
    "mean_category_reting = []\n",
    "median_category_reting = []\n",
    "\n",
    "              \n",
    "for category in categories:\n",
    "    category_reting = data[data[\"categoryLevel1Id\"] == category][\"reting\"]\n",
    "    mean_category_reting.append(category_reting.mean())\n",
    "    median_category_reting.append(category_reting.median())"
   ]
  },
  {
   "cell_type": "code",
   "execution_count": 11,
   "metadata": {},
   "outputs": [
    {
     "data": {
      "image/png": "[encoded data removed]",
      "text/plain": [
       "<matplotlib.figure.Figure at 0x7fdf731891d0>"
      ]
     },
     "metadata": {},
     "output_type": "display_data"
    },
    {
     "data": {
      "image/png": "[encoded data removed]",
      "text/plain": [
       "<matplotlib.figure.Figure at 0x7fdf73189710>"
      ]
     },
     "metadata": {},
     "output_type": "display_data"
    }
   ],
   "source": [
    "plt.title('Распределение средней оценки по категориям')\n",
    "plt.xlabel('Категории')\n",
    "plt.ylabel('Оценка')\n",
    "plt.bar(list(range(0,len(median_category_reting))), sorted(mean_category_reting))\n",
    "plt.show()\n",
    "\n",
    "plt.title('Распределение медианной оценки по категориям')\n",
    "plt.xlabel('Категории')\n",
    "plt.ylabel('Оценка')\n",
    "plt.bar(list(range(0,len(median_category_reting))), sorted(median_category_reting))\n",
    "plt.show()"
   ]
  },
  {
   "cell_type": "markdown",
   "metadata": {},
   "source": [
    "Как можно заметить из графиков, корреляция есть, но она не так выражена, как корреляция с брендами, однако помимо категорий у нас есть более точное разделение на подкатегории, проверим значения здесь."
   ]
  },
  {
   "cell_type": "code",
   "execution_count": 12,
   "metadata": {
    "scrolled": false
   },
   "outputs": [
    {
     "data": {
      "image/png": "[encoded data removed]",
      "text/plain": [
       "<matplotlib.figure.Figure at 0x7fdf7322fb70>"
      ]
     },
     "metadata": {},
     "output_type": "display_data"
    },
    {
     "data": {
      "image/png": "[encoded data removed]",
      "text/plain": [
       "<matplotlib.figure.Figure at 0x7fdf735dc160>"
      ]
     },
     "metadata": {},
     "output_type": "display_data"
    }
   ],
   "source": [
    "categories2 = list(set(data[\"categoryLevel2Id\"].get_values()))\n",
    "mean_category2_reting = []\n",
    "median_category2_reting = []\n",
    "\n",
    "              \n",
    "for category in categories2:\n",
    "    category_reting = data[data[\"categoryLevel2Id\"] == category][\"reting\"]\n",
    "    mean_category2_reting.append(category_reting.mean())\n",
    "    median_category2_reting.append(category_reting.median())\n",
    "\n",
    "plt.title('Распределение средней оценки по категориям')\n",
    "plt.xlabel('Категории')\n",
    "plt.ylabel('Оценка')\n",
    "plt.bar(list(range(0,len(mean_category2_reting))), sorted(mean_category2_reting))\n",
    "plt.show()\n",
    "\n",
    "plt.title('Распределение медианной оценки по категориям')\n",
    "plt.xlabel('Категории')\n",
    "plt.ylabel('Оценка')\n",
    "plt.bar(list(range(0,len(median_category2_reting))), sorted(median_category2_reting))\n",
    "plt.show()"
   ]
  },
  {
   "cell_type": "markdown",
   "metadata": {},
   "source": [
    "Здесь же корреляция более выраженая и эти данные могут помочь в улучшении итоговой модели."
   ]
  },
  {
   "cell_type": "markdown",
   "metadata": {},
   "source": [
    "### Comment posetive/negative"
   ]
  },
  {
   "cell_type": "markdown",
   "metadata": {},
   "source": [
    "По названию метки, можно подумать, что это бинарная метка тональности ответа, которых при этом очень мало\n",
    "```\n",
    "commentNegative     924 non-null object\n",
    "commentPositive     923 non-null object\n",
    "```\n",
    "\n",
    "Однако, если мы взглянем внутрь, то сможем понять, что это не совсем так."
   ]
  },
  {
   "cell_type": "code",
   "execution_count": 13,
   "metadata": {},
   "outputs": [
    {
     "data": {
      "text/html": [
       "<div>\n",
       "<style>\n",
       "    .dataframe thead tr:only-child th {\n",
       "        text-align: right;\n",
       "    }\n",
       "\n",
       "    .dataframe thead th {\n",
       "        text-align: left;\n",
       "    }\n",
       "\n",
       "    .dataframe tbody tr th {\n",
       "        vertical-align: top;\n",
       "    }\n",
       "</style>\n",
       "<table border=\"1\" class=\"dataframe\">\n",
       "  <thead>\n",
       "    <tr style=\"text-align: right;\">\n",
       "      <th></th>\n",
       "      <th>commentPositive</th>\n",
       "    </tr>\n",
       "  </thead>\n",
       "  <tbody>\n",
       "    <tr>\n",
       "      <th>13</th>\n",
       "      <td>Пользуюсь данной кофемолкой несколько месяцев ...</td>\n",
       "    </tr>\n",
       "    <tr>\n",
       "      <th>47</th>\n",
       "      <td>купил в выходной, установил за 30 мин, еще чер...</td>\n",
       "    </tr>\n",
       "    <tr>\n",
       "      <th>71</th>\n",
       "      <td>Решили с женой поставить водонагреватель в бан...</td>\n",
       "    </tr>\n",
       "    <tr>\n",
       "      <th>78</th>\n",
       "      <td>1 Ножки стоят отлично. Качания нет.Транспортир...</td>\n",
       "    </tr>\n",
       "    <tr>\n",
       "      <th>84</th>\n",
       "      <td>Всем привет, хочу поделиться с вами моим мнени...</td>\n",
       "    </tr>\n",
       "    <tr>\n",
       "      <th>98</th>\n",
       "      <td>Чайником  K711 пользуемся уже третий год, и по...</td>\n",
       "    </tr>\n",
       "    <tr>\n",
       "      <th>104</th>\n",
       "      <td>срок владения изделием 3 года. Очень некачеств...</td>\n",
       "    </tr>\n",
       "    <tr>\n",
       "      <th>113</th>\n",
       "      <td>Нам попалась бракованная-не работало нижнее ко...</td>\n",
       "    </tr>\n",
       "    <tr>\n",
       "      <th>127</th>\n",
       "      <td>Фильтрами пользуюсь постоянно. Этот выглядит о...</td>\n",
       "    </tr>\n",
       "    <tr>\n",
       "      <th>131</th>\n",
       "      <td>Пользуемся месяц, полет прекрасный.Кухня 14 кв...</td>\n",
       "    </tr>\n",
       "  </tbody>\n",
       "</table>\n",
       "</div>"
      ],
      "text/plain": [
       "                                       commentPositive\n",
       "13   Пользуюсь данной кофемолкой несколько месяцев ...\n",
       "47   купил в выходной, установил за 30 мин, еще чер...\n",
       "71   Решили с женой поставить водонагреватель в бан...\n",
       "78   1 Ножки стоят отлично. Качания нет.Транспортир...\n",
       "84   Всем привет, хочу поделиться с вами моим мнени...\n",
       "98   Чайником  K711 пользуемся уже третий год, и по...\n",
       "104  срок владения изделием 3 года. Очень некачеств...\n",
       "113  Нам попалась бракованная-не работало нижнее ко...\n",
       "127  Фильтрами пользуюсь постоянно. Этот выглядит о...\n",
       "131  Пользуемся месяц, полет прекрасный.Кухня 14 кв..."
      ]
     },
     "execution_count": 13,
     "metadata": {},
     "output_type": "execute_result"
    }
   ],
   "source": [
    "data[~data[\"commentPositive\"].isnull()][[\"commentPositive\"]].head(10)"
   ]
  },
  {
   "cell_type": "markdown",
   "metadata": {},
   "source": [
    "Это некоторый текст, который очень похож на обычные отзывы к товару, но если мы взглянем поближе, то увидим..."
   ]
  },
  {
   "cell_type": "markdown",
   "metadata": {},
   "source": [
    "**CommentPositive**"
   ]
  },
  {
   "cell_type": "code",
   "execution_count": 14,
   "metadata": {},
   "outputs": [
    {
     "data": {
      "text/plain": [
       "'Пользуюсь данной кофемолкой несколько месяцев - очень довольна. при покупке прежде всего руководствовалась репутацией бренда, качеством изделия, ценой. При сравнении с другими марками эта оказалась самой выигрышной: мало шумная, высокая скорость, качество сборки изделия (ничего не болтается, не отваливается и т.п.) Дальнейшая эксплуатация приносит только удовольствие. Отличный помощник на кухне!'"
      ]
     },
     "execution_count": 14,
     "metadata": {},
     "output_type": "execute_result"
    }
   ],
   "source": [
    "data[~data[\"commentPositive\"].isnull()][[\"commentPositive\"]].head(10).get_values()[0][0]"
   ]
  },
  {
   "cell_type": "markdown",
   "metadata": {},
   "source": [
    "** CommentNegative**"
   ]
  },
  {
   "cell_type": "code",
   "execution_count": 15,
   "metadata": {},
   "outputs": [
    {
     "data": {
      "text/plain": [
       "'практически нет. Брала для помола специй, в частности, семена кардамона в пыль не смалывает, есть мелкие частицы. Но зерна кофе, прочие семена мелет отлично.'"
      ]
     },
     "execution_count": 15,
     "metadata": {},
     "output_type": "execute_result"
    }
   ],
   "source": [
    "data[~data[\"commentPositive\"].isnull()][[\"commentNegative\"]].head(10).get_values()[0][0]"
   ]
  },
  {
   "cell_type": "markdown",
   "metadata": {},
   "source": [
    "Да! Это описание положительных и отрицательных сторон девайса. \n",
    "\n",
    "Проведем простой эксперимент для проверки корреляции признаков: сравним распределение длины отрицательных сторон в зависимости от оценки товара."
   ]
  },
  {
   "cell_type": "code",
   "execution_count": 17,
   "metadata": {},
   "outputs": [
    {
     "data": {
      "image/png": "[encoded data removed]",
      "text/plain": [
       "<matplotlib.figure.Figure at 0x7fdf735020f0>"
      ]
     },
     "metadata": {},
     "output_type": "display_data"
    },
    {
     "data": {
      "image/png": "[encoded data removed]",
      "text/plain": [
       "<matplotlib.figure.Figure at 0x7fdf7353ae10>"
      ]
     },
     "metadata": {},
     "output_type": "display_data"
    }
   ],
   "source": [
    "negative_comments = data[~data[\"commentPositive\"].isnull()][[\"commentNegative\"]].head(10).get_values()\n",
    "negative_comments_len = [len(comment) for comment in negative_comments]\n",
    "comments_reting = list(set(data[~data[\"commentNegative\"].isnull()][\"reting\"].get_values().tolist()))\n",
    "mean_reting = []\n",
    "median_reting = []\n",
    "\n",
    "for ret in comments_reting:\n",
    "    negative_comments = data[(~data[\"commentNegative\"].isnull()) & (data[\"reting\"] == ret)][\"commentNegative\"].get_values()\n",
    "    negative_comments_len = [len(comment) for comment in negative_comments]\n",
    "    median_reting.append(np.median(negative_comments_len))\n",
    "    mean_reting.append(np.mean(negative_comments_len))\n",
    "\n",
    "\n",
    "plt.title('Распределение средней длины негативного комментария по оценкам.')\n",
    "plt.xlabel('Оценки')\n",
    "plt.ylabel('Длина по символам')\n",
    "plt.bar(comments_reting, mean_reting)\n",
    "plt.show()\n",
    "\n",
    "plt.title('Распределение медианной длины негативного комментария по рейтингу.')\n",
    "plt.xlabel('Оценки')\n",
    "plt.ylabel('Длина по символам')\n",
    "plt.bar(comments_reting, median_reting)\n",
    "plt.show()"
   ]
  },
  {
   "cell_type": "markdown",
   "metadata": {},
   "source": [
    "Если присмотреться к последнему графику, то можем увидеть, что центр масс гистограмы смещен в отрицательную сторону, это проявляется не так сильно в связи с тем, что длина по символам - не лучшая описательная характеристика, мы можем поробовать заменить ее другой, например: если мы начнем измерять не по длине строки, а по количеству слов, то увидим следующую картину."
   ]
  },
  {
   "cell_type": "code",
   "execution_count": 18,
   "metadata": {},
   "outputs": [
    {
     "data": {
      "image/png": "[encoded data removed]",
      "text/plain": [
       "<matplotlib.figure.Figure at 0x7fdf738e2b70>"
      ]
     },
     "metadata": {},
     "output_type": "display_data"
    },
    {
     "data": {
      "image/png": "[encoded data removed]",
      "text/plain": [
       "<matplotlib.figure.Figure at 0x7fdf735ba470>"
      ]
     },
     "metadata": {},
     "output_type": "display_data"
    }
   ],
   "source": [
    "negative_comments_len = [len(comment) for comment in negative_comments]\n",
    "comments_reting = list(set(data[~data[\"commentNegative\"].isnull()][\"reting\"].get_values().tolist()))\n",
    "mean_reting = []\n",
    "median_reting = []\n",
    "\n",
    "for ret in comments_reting:\n",
    "    negative_comments = data[(~data[\"commentNegative\"].isnull()) & (data[\"reting\"] == ret)][\"commentNegative\"].get_values()\n",
    "    negative_comments_len = [len(comment.split()) for comment in negative_comments]\n",
    "    median_reting.append(np.median(negative_comments_len))\n",
    "    mean_reting.append(np.mean(negative_comments_len))\n",
    "\n",
    "\n",
    "plt.title('Распределение средней длины негативного комментария по оценкам.')\n",
    "plt.xlabel('Оценки')\n",
    "plt.ylabel('Длина по символам')\n",
    "plt.bar(comments_reting, mean_reting)\n",
    "plt.show()\n",
    "\n",
    "plt.title('Распределение медианной длины негативного комментария по рейтингу.')\n",
    "plt.xlabel('Оценки')\n",
    "plt.ylabel('Длина по символам')\n",
    "plt.bar(comments_reting, median_reting)\n",
    "plt.show()"
   ]
  },
  {
   "cell_type": "markdown",
   "metadata": {},
   "source": [
    "Здесь смещение в отрицательную сторону заметно на много больше. Дополнительной характеристикой рейтинга могла бы стать тональность данных отзывовов. Так же, мы можем попробовать просто добавить данный текст к общему отзыву.\n",
    "\n",
    "\n",
    "Однако стоит заметить, что данных этого поля не так много, связано это по большей части с тем, что большая часть датасетя достаточно старая и такого поля попросту небыло, в связи чем данное поле может не дать сильного прироста, но при добавлении актуальных данных на продакшене, это может сильно помочь в работе реальной модели.\n",
    "\n",
    "---"
   ]
  },
  {
   "cell_type": "markdown",
   "metadata": {},
   "source": [
    "\n",
    "\n"
   ]
  },
  {
   "cell_type": "markdown",
   "metadata": {},
   "source": [
    "# Предобработка текста"
   ]
  },
  {
   "cell_type": "markdown",
   "metadata": {},
   "source": [
    "Поскольку мы закончили с анализом датасета, можно переходить к извлечению и инженерингу фичей.\n",
    "\n",
    "В первую очередь преобразуем данные из текста комментария, воспользуемся **TFIDF** и попробуес применить различные модели для задач классификации и регрессии, после чего добавим дополнительные параметры контекста, которые мы исследовали ранее."
   ]
  },
  {
   "cell_type": "markdown",
   "metadata": {},
   "source": [
    "### TfIdf"
   ]
  },
  {
   "cell_type": "code",
   "execution_count": 4,
   "metadata": {
    "collapsed": true
   },
   "outputs": [],
   "source": [
    "from sklearn.feature_extraction.text import TfidfVectorizer\n",
    "from sklearn.model_selection import train_test_split\n",
    "\n",
    "from nltk.corpus import stopwords\n",
    "ru_stopwords = stopwords.words(\"russian\")\n",
    "\n",
    "from pymorphy2 import MorphAnalyzer\n",
    "morph = MorphAnalyzer()"
   ]
  },
  {
   "cell_type": "markdown",
   "metadata": {},
   "source": [
    "Для уменьшения размерности итогового вектора добавим векторизатор нормализацию входного текста. С одной стороны, для этого можно было бы использовать стемминг, однаков в рамках русского языка стемминг показывает результаты хуже, чем в английском. По этому будем использовать лематизацию, т.е. приведение слов в начальную форму, например: *ЛЮДИ - ЧЕЛОВЕК*, чего невозможно достичь с помощью стемминга. Для лематизации, будем использовать библиотеку **pymorphy2**.\n",
    "\n",
    "Так же мы будем использовать не только слова, но и **2х-граммы**, что позволит нам обрабатывать словосочитания вида: *\"не нравится\"*, чего бы мы не смогли сделать при обычном **tfidf**, и добавим в модель удаление **стоп-слов** русского языка."
   ]
  },
  {
   "cell_type": "code",
   "execution_count": 5,
   "metadata": {
    "collapsed": true
   },
   "outputs": [],
   "source": [
    "class LemaTfidf(TfidfVectorizer):\n",
    "    def build_analyzer(self):\n",
    "        analyzer = super(TfidfVectorizer, self).build_analyzer()\n",
    "        return lambda doc: (morph.parse(word)[0].normal_form for word in analyzer(doc))\n",
    "\n",
    "tfidf = TfidfVectorizer(ngram_range=(1,2), stop_words=ru_stopwords, max_df=0.6)"
   ]
  },
  {
   "cell_type": "markdown",
   "metadata": {},
   "source": [
    "Преобразуем **текст** комментариев в **вектор** и выделим итогове значение рейтинга отдельным вектором."
   ]
  },
  {
   "cell_type": "code",
   "execution_count": 6,
   "metadata": {},
   "outputs": [
    {
     "data": {
      "text/plain": [
       "404692"
      ]
     },
     "execution_count": 6,
     "metadata": {},
     "output_type": "execute_result"
    }
   ],
   "source": [
    "vectors = tfidf.fit_transform(data[\"comment\"].get_values())\n",
    "labels = data[\"reting\"].get_values()\n",
    "\n",
    "vectors.shape[1]"
   ]
  },
  {
   "cell_type": "markdown",
   "metadata": {},
   "source": [
    "Как видим, итоговый вектор получился очень большой (поскольку матрица очень разрежена) и есть риск переобучения, поэтому воспользуемся методами сжатия данных, а именно **PCA**. Итоговый вектор будет сжат до 1000мерного пространтсва."
   ]
  },
  {
   "cell_type": "markdown",
   "metadata": {},
   "source": [
    "А теперь, разделим выборку на две части и проведем предворительное обучение и посмотрим на результаты."
   ]
  },
  {
   "cell_type": "code",
   "execution_count": 7,
   "metadata": {},
   "outputs": [],
   "source": [
    "x_train, x_test, y_train, y_test = train_test_split(vectors, labels, test_size=0.33, random_state=42)"
   ]
  },
  {
   "cell_type": "code",
   "execution_count": 8,
   "metadata": {},
   "outputs": [],
   "source": [
    "from sklearn.decomposition import PCA\n",
    "\n",
    "pca = PCA(n_components=800)\n",
    "x_train = pca.fit_transform(x_train.toarray())"
   ]
  },
  {
   "cell_type": "code",
   "execution_count": 10,
   "metadata": {},
   "outputs": [],
   "source": [
    "x_test = pca.transform(x_test.toarray())"
   ]
  },
  {
   "cell_type": "markdown",
   "metadata": {},
   "source": [
    "## Тренеруем текстовые классификаторы"
   ]
  },
  {
   "cell_type": "markdown",
   "metadata": {},
   "source": [
    "Настало время натренирорвать наши классификаторы на работу с текстом, для начала попробуем сделать это без использования признаков контекста, основываясь только на векторах входного текста. Таким образом мы сможем выявить лучшие модели для нашей задачи, а так же получить модель предсказания тональности, что нам поможет выловить полезные данные из полей \"плюсы и минусы\"."
   ]
  },
  {
   "cell_type": "code",
   "execution_count": 11,
   "metadata": {
    "collapsed": true
   },
   "outputs": [],
   "source": [
    "from sklearn.metrics import mean_squared_error, mean_absolute_error"
   ]
  },
  {
   "cell_type": "markdown",
   "metadata": {},
   "source": [
    "### Линейные методы"
   ]
  },
  {
   "cell_type": "markdown",
   "metadata": {},
   "source": [
    "Начать можно с простых линейных методов, они могут показать достаточно хорошие результаты на этих данных. Как говорилось ранее попробуем решить задачу регрессии и классификации."
   ]
  },
  {
   "cell_type": "markdown",
   "metadata": {},
   "source": [
    "#### LineralRegression - регрессия"
   ]
  },
  {
   "cell_type": "code",
   "execution_count": 15,
   "metadata": {},
   "outputs": [
    {
     "name": "stdout",
     "output_type": "stream",
     "text": [
      "MSE: 1.08890058425\n",
      "MAE: 0.801768467487\n"
     ]
    }
   ],
   "source": [
    "from sklearn.linear_model import LinearRegression\n",
    "\n",
    "lr = LinearRegression()\n",
    "lr.fit(x_train, y_train)\n",
    "\n",
    "lr_pred = lr.predict(x_test)\n",
    "lr_score = mean_squared_error(lr_pred, y_test), mean_absolute_error(lr_pred, y_test)\n",
    "\n",
    "print(\"MSE: %s\\nMAE: %s\"%lr_score)"
   ]
  },
  {
   "cell_type": "markdown",
   "metadata": {},
   "source": [
    "#### ElasticNet - регрессия"
   ]
  },
  {
   "cell_type": "markdown",
   "metadata": {},
   "source": [
    "Помимо линейной регрессии, которая сильно склонная к переобучению, воспользуемся ElasticNet, не обладающий таким недостатком. "
   ]
  },
  {
   "cell_type": "code",
   "execution_count": 30,
   "metadata": {},
   "outputs": [
    {
     "name": "stdout",
     "output_type": "stream",
     "text": [
      "MSE: 1.76602919931\n",
      "MAE: 1.05844295791\n"
     ]
    }
   ],
   "source": [
    "from sklearn.linear_model import ElasticNet\n",
    "\n",
    "eln = ElasticNet(alpha=0.1)\n",
    "eln.fit(x_train, y_train)\n",
    "\n",
    "eln_pred = eln.predict(x_test)\n",
    "eln_score = mean_squared_error(eln_pred, y_test), mean_absolute_error(eln_pred, y_test)\n",
    "\n",
    "print(\"MSE: %s\\nMAE: %s\"%eln_score)"
   ]
  },
  {
   "cell_type": "markdown",
   "metadata": {},
   "source": [
    "#### LogisticRegression - классификация"
   ]
  },
  {
   "cell_type": "markdown",
   "metadata": {},
   "source": [
    "Ну и конечно перейдем к решению задачи классификации, для этого воспользуемся **Логистической Регрессией**, которая на самом деле классификация :D. Но возьмем мы не простой logreg, а добавим в качестве оптимизатора **SGD** (стахостический градиентный спуск).\n",
    "\n",
    "Заметьте, в конечном итоге мы проверяем алгоритм не с помощью метрик классификации, а с помощью метрик регрессии, поскольку для нас выбор класса *1* и *5* вместо класса *2* имеют разный вес."
   ]
  },
  {
   "cell_type": "code",
   "execution_count": 31,
   "metadata": {},
   "outputs": [
    {
     "name": "stderr",
     "output_type": "stream",
     "text": [
      "/usr/local/lib/python3.5/dist-packages/sklearn/linear_model/stochastic_gradient.py:84: FutureWarning: max_iter and tol parameters have been added in <class 'sklearn.linear_model.stochastic_gradient.SGDClassifier'> in 0.19. If both are left unset, they default to max_iter=5 and tol=None. If tol is not None, max_iter defaults to max_iter=1000. From 0.21, default max_iter will be 1000, and default tol will be 1e-3.\n",
      "  \"and default tol will be 1e-3.\" % type(self), FutureWarning)\n"
     ]
    },
    {
     "name": "stdout",
     "output_type": "stream",
     "text": [
      "MSE: 2.54208592535\n",
      "MAE: 0.890765940902\n"
     ]
    }
   ],
   "source": [
    "from sklearn.linear_model import SGDClassifier\n",
    "from sklearn.preprocessing import LabelEncoder\n",
    "\n",
    "le = LabelEncoder()\n",
    "y_tr = le.fit_transform(y_train)\n",
    "\n",
    "lgr = SGDClassifier(loss=\"log\")\n",
    "lgr.fit(x_train, y_tr)\n",
    "\n",
    "lgr_pred = le.classes_[lgr.predict(x_test)]\n",
    "lgr_score = mean_squared_error(lgr_pred, y_test), mean_absolute_error(lgr_pred, y_test)\n",
    "\n",
    "print(\"MSE: %s\\nMAE: %s\"%lgr_score)"
   ]
  },
  {
   "cell_type": "markdown",
   "metadata": {},
   "source": [
    "### Деревья решений"
   ]
  },
  {
   "cell_type": "markdown",
   "metadata": {},
   "source": [
    "Для деревьев решений, будем использовать не средства **sklearn**, а фреймворк от Microsoft **ligthgbm**. Удобство его использования в нашей задаче заключается в следующем: \n",
    "* Обучение модели происходит намного быстрее, чем в Xgboost\n",
    "* Модель работает на много точнее, чем встроеные решения Sklearn\n",
    "* Есть возможность запуска обучения на GPU\n",
    "* Присутвует встроенная возможность использоваения категориалных фич, что исключает dummy-кодирование"
   ]
  },
  {
   "cell_type": "code",
   "execution_count": 63,
   "metadata": {
    "collapsed": true
   },
   "outputs": [],
   "source": [
    "import lightgbm as lgb\n",
    "\n",
    "train_data = lgb.Dataset(x_train, y_train)\n",
    "test_data = lgb.Dataset(x_test, y_test)\n",
    "\n",
    "train_data_cls = lgb.Dataset(x_train, le.transform(y_train))\n",
    "test_data_cls = lgb.Dataset(x_test, le.transform(y_test))"
   ]
  },
  {
   "cell_type": "markdown",
   "metadata": {},
   "source": [
    "#### GradientBoosting - регрессия"
   ]
  },
  {
   "cell_type": "code",
   "execution_count": 85,
   "metadata": {},
   "outputs": [
    {
     "name": "stderr",
     "output_type": "stream",
     "text": [
      "/usr/lib/python3.5/site-packages/lightgbm/engine.py:100: UserWarning: Found `num_iterations` in params. Will use it instead of argument\n",
      "  warnings.warn(\"Found `{}` in params. Will use it instead of argument\".format(alias))\n"
     ]
    },
    {
     "name": "stdout",
     "output_type": "stream",
     "text": [
      "MSE: 1.17240033717\n",
      "MAE: 0.763135459204\n"
     ]
    }
   ],
   "source": [
    "gb_r_model_params = {\n",
    "    \"device\": \"cpu\",\n",
    "    \"application\": \"regression_l2\",\n",
    "    \"boosting\": \"gbdt\",\n",
    "    \"num_leaves\": 120,\n",
    "    \"max_depth\": 10,\n",
    "    \"learning_rate\": 0.1,\n",
    "    \"num_iterations\": 100\n",
    "}\n",
    "\n",
    "num_round = 10\n",
    "\n",
    "\n",
    "gb_r = lgb.train(gb_r_model_params, train_data, num_round, valid_sets=[test_data])\n",
    "\n",
    "gbm_r_pred = gb_r.predict(x_test, num_iteration=gb_r.best_iteration)\n",
    "gbm_r_score = mean_squared_error(gb_r_pred, y_test), mean_absolute_error(gb_r_pred, y_test)\n",
    "\n",
    "print(\"MSE: %s\\nMAE: %s\"%gb_r_score)"
   ]
  },
  {
   "cell_type": "markdown",
   "metadata": {},
   "source": [
    "#### GradientBoosting - классификация"
   ]
  },
  {
   "cell_type": "code",
   "execution_count": 130,
   "metadata": {},
   "outputs": [
    {
     "name": "stderr",
     "output_type": "stream",
     "text": [
      "/usr/lib/python3.5/site-packages/lightgbm/engine.py:100: UserWarning: Found `num_iterations` in params. Will use it instead of argument\n",
      "  warnings.warn(\"Found `{}` in params. Will use it instead of argument\".format(alias))\n"
     ]
    },
    {
     "name": "stdout",
     "output_type": "stream",
     "text": [
      "MSE: 1.97050933126\n",
      "MAE: 0.747939346812\n"
     ]
    }
   ],
   "source": [
    "gb_c_model_params = {\n",
    "    \"device\": \"cpu\",\n",
    "    \"application\": \"multiclass\",\n",
    "    \"boosting\": \"gbdt\",\n",
    "    \"num_leaves\": 130,\n",
    "    \"max_depth\": 7,\n",
    "    \"learning_rate\": 0.1,\n",
    "    \"num_iterations\": 100,\n",
    "    \"num_class\": len(set(y_train))\n",
    "}\n",
    "\n",
    "num_round = 10\n",
    "\n",
    "\n",
    "gb_c = lgb.train(gb_c_model_params, train_data_cls, num_round, valid_sets=[test_data_cls])\n",
    "# gb_r.save_model('rfr_r.txt', num_iteration=gb_r.best_iteration)\n",
    "\n",
    "gbm_c_pred = gb_c.predict(x_test, num_iteration=gb_r.best_iteration)\n",
    "gbm_c_pred = le.classes_[gb_c_pred]\n",
    "\n",
    "gbm_c_score = mean_squared_error(gbm_c_pred, y_test), mean_absolute_error(gbm_c_pred, y_test)\n",
    "\n",
    "print(\"MSE: %s\\nMAE: %s\"%gb_c_score)"
   ]
  },
  {
   "cell_type": "markdown",
   "metadata": {},
   "source": [
    "### Результаты"
   ]
  },
  {
   "cell_type": "code",
   "execution_count": 131,
   "metadata": {},
   "outputs": [
    {
     "name": "stdout",
     "output_type": "stream",
     "text": [
      "Lineral regression: 1.08890058425 MSE, 0.801768467487 MAE\n",
      "ElasticNet regression: 1.76602919931 MSE, 1.05844295791 MAE\n",
      "LogisticRegrssion classification: 2.54208592535 MSE, 0.890765940902 MAE\n",
      "\n",
      "GradientBoosting regression: 1.17240033717 MSE, 0.763135459204 MAE\n",
      "GradientBoosting classification: 1.97050933126 MSE, 0.747939346812 MAE\n"
     ]
    }
   ],
   "source": [
    "print(\"Lineral regression: %s MSE, %s MAE\" % lr_score)\n",
    "print(\"ElasticNet regression: %s MSE, %s MAE\" % eln_score)\n",
    "print(\"LogisticRegrssion classification: %s MSE, %s MAE\" % lgr_score)\n",
    "print()\n",
    "print(\"GradientBoosting regression: %s MSE, %s MAE\" % gbm_r_score)\n",
    "print(\"GradientBoosting classification: %s MSE, %s MAE\" % gbm_c_score)"
   ]
  },
  {
   "cell_type": "code",
   "execution_count": 140,
   "metadata": {},
   "outputs": [
    {
     "data": {
      "text/plain": [
       "[<matplotlib.lines.Line2D at 0x7fe1aba025c0>]"
      ]
     },
     "execution_count": 140,
     "metadata": {},
     "output_type": "execute_result"
    },
    {
     "data": {
      "image/png": "[encoded data removed]",
      "text/plain": [
       "<matplotlib.figure.Figure at 0x7fe1abb0c780>"
      ]
     },
     "metadata": {},
     "output_type": "display_data"
    }
   ],
   "source": [
    "n = 40\n",
    "plt.plot(y_test[:n])\n",
    "plt.plot(gbm_r_pred.round(1)[:n], color=\"red\")\n",
    "plt.plot(lr_pred.round(1)[:n], color=\"green\")\n",
    "plt.plot(gbm_c_pred.round(1)[:n], color=\"yellow\")"
   ]
  }
 ],
 "metadata": {
  "kernelspec": {
   "display_name": "Python 3",
   "language": "python",
   "name": "python3"
  },
  "language_info": {
   "codemirror_mode": {
    "name": "ipython",
    "version": 3
   },
   "file_extension": ".py",
   "mimetype": "text/x-python",
   "name": "python",
   "nbconvert_exporter": "python",
   "pygments_lexer": "ipython3",
   "version": "3.5.2"
  }
 },
 "nbformat": 4,
 "nbformat_minor": 2
}
