{
 "cells": [
  {
   "cell_type": "markdown",
   "metadata": {},
   "source": [
    "# M.SMART Хактатон\n",
    "\n",
    "Хакатон **М.Видео** по обработке естественного языка и использованию искусственного интеллекта для работы с клиентами. \n",
    "\n",
    "\n",
    "**Цель:** Предсказание общей оценки товара\n",
    "\n",
    "\n",
    "**Данные:** Данные: отзывы о товарах с сайта mvideo.ru, оценки, которые поставлены авторами отзыва, категория и брэнд товара. \n",
    "\n",
    "[Cкачать данные](http://hackathon.mvideo.ru/files/feedback.csv.rar)"
   ]
  },
  {
   "cell_type": "markdown",
   "metadata": {},
   "source": [
    "## Анализ датасета"
   ]
  },
  {
   "cell_type": "code",
   "execution_count": 89,
   "metadata": {
    "collapsed": true
   },
   "outputs": [],
   "source": [
    "import pandas\n",
    "import numpy as np\n",
    "import scipy as sp\n",
    "\n",
    "from matplotlib import pyplot as plt\n",
    "%matplotlib inline"
   ]
  },
  {
   "cell_type": "code",
   "execution_count": 3,
   "metadata": {
    "scrolled": true
   },
   "outputs": [
    {
     "data": {
      "text/html": [
       "<div>\n",
       "<style>\n",
       "    .dataframe thead tr:only-child th {\n",
       "        text-align: right;\n",
       "    }\n",
       "\n",
       "    .dataframe thead th {\n",
       "        text-align: left;\n",
       "    }\n",
       "\n",
       "    .dataframe tbody tr th {\n",
       "        vertical-align: top;\n",
       "    }\n",
       "</style>\n",
       "<table border=\"1\" class=\"dataframe\">\n",
       "  <thead>\n",
       "    <tr style=\"text-align: right;\">\n",
       "      <th></th>\n",
       "      <th>sku</th>\n",
       "      <th>categoryLevel1Id</th>\n",
       "      <th>categoryLevel2Id</th>\n",
       "      <th>brandId</th>\n",
       "      <th>property</th>\n",
       "      <th>userName</th>\n",
       "      <th>reting</th>\n",
       "      <th>date</th>\n",
       "      <th>comment</th>\n",
       "      <th>commentNegative</th>\n",
       "      <th>commentPositive</th>\n",
       "    </tr>\n",
       "  </thead>\n",
       "  <tbody>\n",
       "    <tr>\n",
       "      <th>0</th>\n",
       "      <td>20005023</td>\n",
       "      <td>401</td>\n",
       "      <td>4010201</td>\n",
       "      <td>826</td>\n",
       "      <td>[{34: 'f982777489055c6563d68c005fd24aad'}, {36...</td>\n",
       "      <td>b2898a81b45310b30beb8fc0c0a9ce1e</td>\n",
       "      <td>2.0</td>\n",
       "      <td>2013-06-28</td>\n",
       "      <td>2,5 года работала и все...устала! Лампочка гор...</td>\n",
       "      <td>NaN</td>\n",
       "      <td>NaN</td>\n",
       "    </tr>\n",
       "    <tr>\n",
       "      <th>1</th>\n",
       "      <td>20020647</td>\n",
       "      <td>403</td>\n",
       "      <td>4030101</td>\n",
       "      <td>1425</td>\n",
       "      <td>[{34: '9ce895413ebdf6b6dcb69b07dc782591'}, {36...</td>\n",
       "      <td>538c73d64461e13907bb95c51c38bfbc</td>\n",
       "      <td>2.0</td>\n",
       "      <td>2010-07-04</td>\n",
       "      <td>Через 2 месяца после истечении гарантийного ср...</td>\n",
       "      <td>NaN</td>\n",
       "      <td>NaN</td>\n",
       "    </tr>\n",
       "  </tbody>\n",
       "</table>\n",
       "</div>"
      ],
      "text/plain": [
       "        sku  categoryLevel1Id  categoryLevel2Id  brandId  \\\n",
       "0  20005023               401           4010201      826   \n",
       "1  20020647               403           4030101     1425   \n",
       "\n",
       "                                            property  \\\n",
       "0  [{34: 'f982777489055c6563d68c005fd24aad'}, {36...   \n",
       "1  [{34: '9ce895413ebdf6b6dcb69b07dc782591'}, {36...   \n",
       "\n",
       "                           userName  reting        date  \\\n",
       "0  b2898a81b45310b30beb8fc0c0a9ce1e     2.0  2013-06-28   \n",
       "1  538c73d64461e13907bb95c51c38bfbc     2.0  2010-07-04   \n",
       "\n",
       "                                             comment commentNegative  \\\n",
       "0  2,5 года работала и все...устала! Лампочка гор...             NaN   \n",
       "1  Через 2 месяца после истечении гарантийного ср...             NaN   \n",
       "\n",
       "  commentPositive  \n",
       "0             NaN  \n",
       "1             NaN  "
      ]
     },
     "execution_count": 3,
     "metadata": {},
     "output_type": "execute_result"
    }
   ],
   "source": [
    "data = pandas.read_csv(\"X_train.csv\")\n",
    "data.head(2)"
   ]
  },
  {
   "cell_type": "markdown",
   "metadata": {},
   "source": [
    "### Описание полей\n",
    "\n",
    "* **sku** - Уникальный id товара\n",
    "* **categoryLevel1Id** - id категории товара\n",
    "* **categoryLevel2Id** - id подкатегории товара\n",
    "* **brandId** - id бренда товара\n",
    "* **userName** - id пользователя\n",
    "* **date** - дата комментария\n",
    "* **reting** - рейтинг товара, который поставил пользователь\n",
    "* **comment** - текст комментария\n",
    "* **commentNegative**/**commentNegative** - позитивная и негативные комментарии к товару"
   ]
  },
  {
   "cell_type": "markdown",
   "metadata": {},
   "source": [
    "### Общая информация о датасете"
   ]
  },
  {
   "cell_type": "code",
   "execution_count": 5,
   "metadata": {
    "scrolled": false
   },
   "outputs": [
    {
     "name": "stdout",
     "output_type": "stream",
     "text": [
      "<class 'pandas.core.frame.DataFrame'>\n",
      "RangeIndex: 15587 entries, 0 to 15586\n",
      "Data columns (total 11 columns):\n",
      "sku                 15587 non-null int64\n",
      "categoryLevel1Id    15587 non-null int64\n",
      "categoryLevel2Id    15587 non-null int64\n",
      "brandId             15587 non-null int64\n",
      "property            15587 non-null object\n",
      "userName            15587 non-null object\n",
      "reting              15587 non-null float64\n",
      "date                15587 non-null object\n",
      "comment             15587 non-null object\n",
      "commentNegative     924 non-null object\n",
      "commentPositive     923 non-null object\n",
      "dtypes: float64(1), int64(4), object(6)\n",
      "memory usage: 974.2+ KB\n"
     ]
    }
   ],
   "source": [
    "data.info()"
   ]
  },
  {
   "cell_type": "code",
   "execution_count": 20,
   "metadata": {
    "scrolled": false
   },
   "outputs": [
    {
     "name": "stdout",
     "output_type": "stream",
     "text": [
      "Количество пользователей: 3232\n",
      "Количество товаров: 2698\n",
      "Количество брендов: 193\n",
      "Среднее количество комментариев у одного пользователя: 4.82271039604\n",
      "Медианное количество комментариев у одного пользователя: 1.0\n",
      "Максимальное количество комментариев у одного пользователя: 630\n"
     ]
    }
   ],
   "source": [
    "print(\"Количество пользователей:\", len(set(data[\"userName\"].get_values())))\n",
    "print(\"Количество товаров:\", len(set(data[\"sku\"].get_values())))\n",
    "print(\"Количество брендов:\", len(set(data[\"brandId\"].get_values())))\n",
    "comments_count = [data[data[\"userName\"] == uid].shape[0] for uid in set(data[\"userName\"].get_values())]\n",
    "print(\"Среднее количество комментариев у одного пользователя:\", np.mean(comments_count))\n",
    "print(\"Медианное количество комментариев у одного пользователя:\", np.median(comments_count))\n",
    "print(\"Максимальное количество комментариев у одного пользователя:\", np.max(comments_count))"
   ]
  },
  {
   "cell_type": "markdown",
   "metadata": {},
   "source": [
    "Из информации выше можно сделать следущий вывод - брать id о пользователе в качестве дополнительных параметров не рациаонально. Вопервых у нас уже очень много пользователей в комментариях (более 3 тысяч), их количество будет расти на продакшен сервере. Однако это не касается id брендов, поскольку их достаточно ограниченое количество и появляются они не с такой регулярностью, проверим корреляцию средней оценки пользователей с id бренда."
   ]
  },
  {
   "cell_type": "markdown",
   "metadata": {},
   "source": [
    "### Распределение оценки по брендам"
   ]
  },
  {
   "cell_type": "code",
   "execution_count": 63,
   "metadata": {
    "collapsed": true
   },
   "outputs": [],
   "source": [
    "brands = list(set(data[\"brandId\"].get_values()))\n",
    "mean_brand_reting = []\n",
    "median_brand_reting = []\n",
    "\n",
    "              \n",
    "for brand in brands:\n",
    "    brand_reting = data[data[\"brandId\"] == brand][\"reting\"]\n",
    "    mean_brand_reting.append(brand_reting.mean())\n",
    "    median_brand_reting.append(brand_reting.median())"
   ]
  },
  {
   "cell_type": "code",
   "execution_count": 73,
   "metadata": {},
   "outputs": [
    {
     "data": {
      "image/png": "[encoded data removed]",
      "text/plain": [
       "<matplotlib.figure.Figure at 0xc524f10>"
      ]
     },
     "metadata": {},
     "output_type": "display_data"
    },
    {
     "data": {
      "image/png": "[encoded data removed]",
      "text/plain": [
       "<matplotlib.figure.Figure at 0xd54ee30>"
      ]
     },
     "metadata": {},
     "output_type": "display_data"
    }
   ],
   "source": [
    "plt.title('Распределение средней оценки по брендам')\n",
    "plt.xlabel('Бренды')\n",
    "plt.ylabel('Оценка')\n",
    "plt.bar(list(range(0,len(mean_brand_reting))), sorted(mean_brand_reting))\n",
    "plt.show()\n",
    "\n",
    "plt.title('Распределение медианной оценки по брендам')\n",
    "plt.xlabel('Бренды')\n",
    "plt.ylabel('Оценка')\n",
    "plt.bar(list(range(0,len(median_brand_reting))), sorted(median_brand_reting))\n",
    "plt.show()"
   ]
  },
  {
   "cell_type": "markdown",
   "metadata": {},
   "source": [
    "Из графиков выше можно понять, что оценка товара достаточно сильно коррелируется с брендом и может послужить хорошим признаком для улучшения модели. Помимо этого, можно заметить, что медианные значения выглядят достаточно дискретно, что позволяет попробовать решить задачу не только в качестве регрессии, но и в виде классификаци, для этого просмотрим распределение оценок пользователей по количеству."
   ]
  },
  {
   "cell_type": "markdown",
   "metadata": {},
   "source": [
    "### Распределение оценок пользователей"
   ]
  },
  {
   "cell_type": "code",
   "execution_count": 15,
   "metadata": {},
   "outputs": [
    {
     "data": {
      "image/png": "[encoded data removed]",
      "text/plain": [
       "<matplotlib.figure.Figure at 0x8b82630>"
      ]
     },
     "metadata": {},
     "output_type": "display_data"
    },
    {
     "name": "stdout",
     "output_type": "stream",
     "text": [
      "Все виды оценок: {1.0, 2.0, 3.0, 4.0, 5.0, 1.3, 2.3, 3.3, 4.3, 1.7, 2.7, 3.7, 4.7}\n",
      "Количество видов оценок 13\n"
     ]
    }
   ],
   "source": [
    "plt.title('Распределение оценок')\n",
    "plt.xlabel('Оценка')\n",
    "plt.ylabel('Количество оценок')\n",
    "plt.hist(data[\"reting\"])\n",
    "plt.show()\n",
    "\n",
    "print(\"Все виды оценок:\", set(l.get_values().tolist()))\n",
    "print(\"Количество видов оценок\", len(set(l.get_values().tolist())))"
   ]
  },
  {
   "cell_type": "markdown",
   "metadata": {},
   "source": [
    "Поскольку количество оценок конечное - задачу возможно решить задачу классификацию и сравнить ее с регрессией. "
   ]
  },
  {
   "cell_type": "markdown",
   "metadata": {},
   "source": [
    "### Распределение оценок по категориям товаров"
   ]
  },
  {
   "cell_type": "markdown",
   "metadata": {},
   "source": [
    "Помимо данных о брендах у нас имеется информация о категориях и подкатегориях товаров, они могут нам значиительно помочь поскольку средняя оценка на различные типы товаров может различаться."
   ]
  },
  {
   "cell_type": "code",
   "execution_count": 4,
   "metadata": {},
   "outputs": [],
   "source": [
    "categories = list(set(data[\"categoryLevel1Id\"].get_values()))\n",
    "mean_category_reting = []\n",
    "median_category_reting = []\n",
    "\n",
    "              \n",
    "for category in categories:\n",
    "    category_reting = data[data[\"categoryLevel1Id\"] == category][\"reting\"]\n",
    "    mean_category_reting.append(category_reting.mean())\n",
    "    median_category_reting.append(category_reting.median())"
   ]
  },
  {
   "cell_type": "code",
   "execution_count": 9,
   "metadata": {},
   "outputs": [
    {
     "data": {
      "image/png": "[encoded data removed]",
      "text/plain": [
       "<matplotlib.figure.Figure at 0x667f150>"
      ]
     },
     "metadata": {},
     "output_type": "display_data"
    },
    {
     "data": {
      "image/png": "[encoded data removed]",
      "text/plain": [
       "<matplotlib.figure.Figure at 0x6618af0>"
      ]
     },
     "metadata": {},
     "output_type": "display_data"
    }
   ],
   "source": [
    "plt.title('Распределение средней оценки по категориям')\n",
    "plt.xlabel('Категории')\n",
    "plt.ylabel('Оценка')\n",
    "plt.bar(list(range(0,len(median_category_reting))), sorted(mean_category_reting))\n",
    "plt.show()\n",
    "\n",
    "plt.title('Распределение медианной оценки по категориям')\n",
    "plt.xlabel('Категории')\n",
    "plt.ylabel('Оценка')\n",
    "plt.bar(list(range(0,len(median_category_reting))), sorted(median_category_reting))\n",
    "plt.show()"
   ]
  },
  {
   "cell_type": "markdown",
   "metadata": {},
   "source": [
    "Как можно заметить из графиков, корреляция есть, но она не так выражена, как корреляция с брендами, однако помимо категорий у нас есть более точное разделение на подкатегории, проверим значения здесь."
   ]
  },
  {
   "cell_type": "code",
   "execution_count": 10,
   "metadata": {},
   "outputs": [
    {
     "data": {
      "image/png": "[encoded data removed]",
      "text/plain": [
       "<matplotlib.figure.Figure at 0x897e9b0>"
      ]
     },
     "metadata": {},
     "output_type": "display_data"
    },
    {
     "data": {
      "image/png": "[encoded data removed]",
      "text/plain": [
       "<matplotlib.figure.Figure at 0xd83e50>"
      ]
     },
     "metadata": {},
     "output_type": "display_data"
    }
   ],
   "source": [
    "categories2 = list(set(data[\"categoryLevel2Id\"].get_values()))\n",
    "mean_category2_reting = []\n",
    "median_category2_reting = []\n",
    "\n",
    "              \n",
    "for category in categories2:\n",
    "    category_reting = data[data[\"categoryLevel2Id\"] == category][\"reting\"]\n",
    "    mean_category2_reting.append(category_reting.mean())\n",
    "    median_category2_reting.append(category_reting.median())\n",
    "\n",
    "plt.title('Распределение средней оценки по категориям')\n",
    "plt.xlabel('Категории')\n",
    "plt.ylabel('Оценка')\n",
    "plt.bar(list(range(0,len(median_category2_reting))), sorted(mean_category_reting))\n",
    "plt.show()\n",
    "\n",
    "plt.title('Распределение медианной оценки по категориям')\n",
    "plt.xlabel('Категории')\n",
    "plt.ylabel('Оценка')\n",
    "plt.bar(list(range(0,len(median_category2_reting))), sorted(median_category_reting))\n",
    "plt.show()"
   ]
  },
  {
   "cell_type": "markdown",
   "metadata": {},
   "source": [
    "Здесь же корреляция более выраженая и эти данные могут помочь в улучшении итоговой модели."
   ]
  },
  {
   "cell_type": "markdown",
   "metadata": {},
   "source": [
    "### Comment posetive/negative"
   ]
  },
  {
   "cell_type": "markdown",
   "metadata": {},
   "source": [
    "По названию метки, можно подумать, что это бинарная метка тональности ответа, которых при этом очень мало\n",
    "```\n",
    "commentNegative     924 non-null object\n",
    "commentPositive     923 non-null object\n",
    "```\n",
    "\n",
    "Однако, если мы взглянем внутрь, то сможем понять, что это не совсем так."
   ]
  },
  {
   "cell_type": "code",
   "execution_count": 71,
   "metadata": {},
   "outputs": [
    {
     "data": {
      "text/html": [
       "<div>\n",
       "<style>\n",
       "    .dataframe thead tr:only-child th {\n",
       "        text-align: right;\n",
       "    }\n",
       "\n",
       "    .dataframe thead th {\n",
       "        text-align: left;\n",
       "    }\n",
       "\n",
       "    .dataframe tbody tr th {\n",
       "        vertical-align: top;\n",
       "    }\n",
       "</style>\n",
       "<table border=\"1\" class=\"dataframe\">\n",
       "  <thead>\n",
       "    <tr style=\"text-align: right;\">\n",
       "      <th></th>\n",
       "      <th>commentPositive</th>\n",
       "    </tr>\n",
       "  </thead>\n",
       "  <tbody>\n",
       "    <tr>\n",
       "      <th>13</th>\n",
       "      <td>Пользуюсь данной кофемолкой несколько месяцев ...</td>\n",
       "    </tr>\n",
       "    <tr>\n",
       "      <th>47</th>\n",
       "      <td>купил в выходной, установил за 30 мин, еще чер...</td>\n",
       "    </tr>\n",
       "    <tr>\n",
       "      <th>71</th>\n",
       "      <td>Решили с женой поставить водонагреватель в бан...</td>\n",
       "    </tr>\n",
       "    <tr>\n",
       "      <th>78</th>\n",
       "      <td>1 Ножки стоят отлично. Качания нет.Транспортир...</td>\n",
       "    </tr>\n",
       "    <tr>\n",
       "      <th>84</th>\n",
       "      <td>Всем привет, хочу поделиться с вами моим мнени...</td>\n",
       "    </tr>\n",
       "    <tr>\n",
       "      <th>98</th>\n",
       "      <td>Чайником  K711 пользуемся уже третий год, и по...</td>\n",
       "    </tr>\n",
       "    <tr>\n",
       "      <th>104</th>\n",
       "      <td>срок владения изделием 3 года. Очень некачеств...</td>\n",
       "    </tr>\n",
       "    <tr>\n",
       "      <th>113</th>\n",
       "      <td>Нам попалась бракованная-не работало нижнее ко...</td>\n",
       "    </tr>\n",
       "    <tr>\n",
       "      <th>127</th>\n",
       "      <td>Фильтрами пользуюсь постоянно. Этот выглядит о...</td>\n",
       "    </tr>\n",
       "    <tr>\n",
       "      <th>131</th>\n",
       "      <td>Пользуемся месяц, полет прекрасный.Кухня 14 кв...</td>\n",
       "    </tr>\n",
       "  </tbody>\n",
       "</table>\n",
       "</div>"
      ],
      "text/plain": [
       "                                       commentPositive\n",
       "13   Пользуюсь данной кофемолкой несколько месяцев ...\n",
       "47   купил в выходной, установил за 30 мин, еще чер...\n",
       "71   Решили с женой поставить водонагреватель в бан...\n",
       "78   1 Ножки стоят отлично. Качания нет.Транспортир...\n",
       "84   Всем привет, хочу поделиться с вами моим мнени...\n",
       "98   Чайником  K711 пользуемся уже третий год, и по...\n",
       "104  срок владения изделием 3 года. Очень некачеств...\n",
       "113  Нам попалась бракованная-не работало нижнее ко...\n",
       "127  Фильтрами пользуюсь постоянно. Этот выглядит о...\n",
       "131  Пользуемся месяц, полет прекрасный.Кухня 14 кв..."
      ]
     },
     "execution_count": 71,
     "metadata": {},
     "output_type": "execute_result"
    }
   ],
   "source": [
    "data[~data[\"commentPositive\"].isnull()][[\"commentPositive\"]].head(10)"
   ]
  },
  {
   "cell_type": "markdown",
   "metadata": {},
   "source": [
    "Это некоторый текст, который очень похож на обычные отзывы к товару, но если мы взглянем поближе, то увидим..."
   ]
  },
  {
   "cell_type": "markdown",
   "metadata": {},
   "source": [
    "**CommentPositive**"
   ]
  },
  {
   "cell_type": "code",
   "execution_count": 83,
   "metadata": {},
   "outputs": [
    {
     "data": {
      "text/plain": [
       "'Пользуюсь данной кофемолкой несколько месяцев - очень довольна. при покупке прежде всего руководствовалась репутацией бренда, качеством изделия, ценой. При сравнении с другими марками эта оказалась самой выигрышной: мало шумная, высокая скорость, качество сборки изделия (ничего не болтается, не отваливается и т.п.) Дальнейшая эксплуатация приносит только удовольствие. Отличный помощник на кухне!'"
      ]
     },
     "execution_count": 83,
     "metadata": {},
     "output_type": "execute_result"
    }
   ],
   "source": [
    "data[~data[\"commentPositive\"].isnull()][[\"commentPositive\"]].head(10).get_values()[0][0]"
   ]
  },
  {
   "cell_type": "markdown",
   "metadata": {},
   "source": [
    "** CommentNegative**"
   ]
  },
  {
   "cell_type": "code",
   "execution_count": 84,
   "metadata": {},
   "outputs": [
    {
     "data": {
      "text/plain": [
       "'практически нет. Брала для помола специй, в частности, семена кардамона в пыль не смалывает, есть мелкие частицы. Но зерна кофе, прочие семена мелет отлично.'"
      ]
     },
     "execution_count": 84,
     "metadata": {},
     "output_type": "execute_result"
    }
   ],
   "source": [
    "data[~data[\"commentPositive\"].isnull()][[\"commentNegative\"]].head(10).get_values()[0][0]"
   ]
  },
  {
   "cell_type": "markdown",
   "metadata": {},
   "source": [
    "Да! Это же описание положительных и отрицательных сторон девайса. Проведем простой эксперимент, для проверки корреляции признаков, сравним распределение длины отрицательных сторон в зависимости от оценки товара."
   ]
  },
  {
   "cell_type": "code",
   "execution_count": 105,
   "metadata": {},
   "outputs": [
    {
     "data": {
      "image/png": "[encoded data removed]",
      "text/plain": [
       "<matplotlib.figure.Figure at 0xf1b350>"
      ]
     },
     "metadata": {},
     "output_type": "display_data"
    },
    {
     "data": {
      "image/png": "[encoded data removed]",
      "text/plain": [
       "<matplotlib.figure.Figure at 0xf76b30>"
      ]
     },
     "metadata": {},
     "output_type": "display_data"
    }
   ],
   "source": [
    "\n",
    "negative_comments_len = [len(comment) for comment in negative_comments]\n",
    "comments_reting = list(set(data[~data[\"commentNegative\"].isnull()][\"reting\"].get_values().tolist()))\n",
    "mean_reting = []\n",
    "median_reting = []\n",
    "\n",
    "for ret in comments_reting:\n",
    "    negative_comments = data[(~data[\"commentNegative\"].isnull()) & (data[\"reting\"] == ret)][\"commentNegative\"].get_values()\n",
    "    negative_comments_len = [len(comment) for comment in negative_comments]\n",
    "    median_reting.append(np.median(negative_comments_len))\n",
    "    mean_reting.append(np.mean(negative_comments_len))\n",
    "\n",
    "\n",
    "plt.title('Распределение средней длины негативного комментария по оценкам.')\n",
    "plt.xlabel('Оценки')\n",
    "plt.ylabel('Длина по символам')\n",
    "plt.bar(comments_reting, mean_reting)\n",
    "plt.show()\n",
    "\n",
    "plt.title('Распределение медианной длины негативного комментария по рейтингу.')\n",
    "plt.xlabel('Оценки')\n",
    "plt.ylabel('Длина по символам')\n",
    "plt.bar(comments_reting, median_reting)\n",
    "plt.show()"
   ]
  },
  {
   "cell_type": "markdown",
   "metadata": {},
   "source": [
    "Здесь же мы можем частично увидеть, что центр масс гистограмы смещен в отрицательную сторону, это не сильно заметно в связи с тем, что длина по символам - не лучшая описательная характеристика и ее можно заменить инымы. Например, если мы начнем измерять не по длине символов, а по количеству слов, то увидим следующую картину."
   ]
  },
  {
   "cell_type": "code",
   "execution_count": 106,
   "metadata": {},
   "outputs": [
    {
     "data": {
      "image/png": "[encoded data removed]",
      "text/plain": [
       "<matplotlib.figure.Figure at 0x8671eb0>"
      ]
     },
     "metadata": {},
     "output_type": "display_data"
    },
    {
     "data": {
      "image/png": "[encoded data removed]",
      "text/plain": [
       "<matplotlib.figure.Figure at 0xf7d8f0>"
      ]
     },
     "metadata": {},
     "output_type": "display_data"
    }
   ],
   "source": [
    "\n",
    "negative_comments_len = [len(comment) for comment in negative_comments]\n",
    "comments_reting = list(set(data[~data[\"commentNegative\"].isnull()][\"reting\"].get_values().tolist()))\n",
    "mean_reting = []\n",
    "median_reting = []\n",
    "\n",
    "for ret in comments_reting:\n",
    "    negative_comments = data[(~data[\"commentNegative\"].isnull()) & (data[\"reting\"] == ret)][\"commentNegative\"].get_values()\n",
    "    negative_comments_len = [len(comment.split()) for comment in negative_comments]\n",
    "    median_reting.append(np.median(negative_comments_len))\n",
    "    mean_reting.append(np.mean(negative_comments_len))\n",
    "\n",
    "\n",
    "plt.title('Распределение средней длины негативного комментария по оценкам.')\n",
    "plt.xlabel('Оценки')\n",
    "plt.ylabel('Длина по символам')\n",
    "plt.bar(comments_reting, mean_reting)\n",
    "plt.show()\n",
    "\n",
    "plt.title('Распределение медианной длины негативного комментария по рейтингу.')\n",
    "plt.xlabel('Оценки')\n",
    "plt.ylabel('Длина по символам')\n",
    "plt.bar(comments_reting, median_reting)\n",
    "plt.show()"
   ]
  },
  {
   "cell_type": "markdown",
   "metadata": {},
   "source": [
    "Здесь смещение в отрицательную сторону заметн"
   ]
  },
  {
   "cell_type": "markdown",
   "metadata": {},
   "source": [
    "## Предобработка датасета"
   ]
  },
  {
   "cell_type": "markdown",
   "metadata": {},
   "source": [
    "### TfIdf"
   ]
  },
  {
   "cell_type": "code",
   "execution_count": 74,
   "metadata": {},
   "outputs": [
    {
     "ename": "LookupError",
     "evalue": "\n**********************************************************************\n  Resource 'corpora/stopwords' not found.  Please use the NLTK\n  Downloader to obtain the resource:  >>> nltk.download()\n  Searched in:\n    - 'C:\\\\Users\\\\alxmamaev/nltk_data'\n    - 'C:\\\\nltk_data'\n    - 'D:\\\\nltk_data'\n    - 'E:\\\\nltk_data'\n    - 'C:\\\\Program Files\\\\WinPython\\\\python-3.5.3\\\\nltk_data'\n    - 'C:\\\\Program Files\\\\WinPython\\\\python-3.5.3\\\\lib\\\\nltk_data'\n    - 'C:\\\\Users\\\\alxmamaev\\\\AppData\\\\Roaming\\\\nltk_data'\n**********************************************************************",
     "output_type": "error",
     "traceback": [
      "\u001b[1;31m---------------------------------------------------------------------------\u001b[0m",
      "\u001b[1;31mLookupError\u001b[0m                               Traceback (most recent call last)",
      "\u001b[1;32mC:\\Program Files\\WinPython\\python-3.5.3\\lib\\site-packages\\nltk-3.2.4-py3.5.egg\\nltk\\corpus\\util.py\u001b[0m in \u001b[0;36m__load\u001b[1;34m(self)\u001b[0m\n\u001b[0;32m     79\u001b[0m             \u001b[1;32mexcept\u001b[0m \u001b[0mLookupError\u001b[0m \u001b[1;32mas\u001b[0m \u001b[0me\u001b[0m\u001b[1;33m:\u001b[0m\u001b[1;33m\u001b[0m\u001b[0m\n\u001b[1;32m---> 80\u001b[1;33m                 \u001b[1;32mtry\u001b[0m\u001b[1;33m:\u001b[0m \u001b[0mroot\u001b[0m \u001b[1;33m=\u001b[0m \u001b[0mnltk\u001b[0m\u001b[1;33m.\u001b[0m\u001b[0mdata\u001b[0m\u001b[1;33m.\u001b[0m\u001b[0mfind\u001b[0m\u001b[1;33m(\u001b[0m\u001b[1;34m'{}/{}'\u001b[0m\u001b[1;33m.\u001b[0m\u001b[0mformat\u001b[0m\u001b[1;33m(\u001b[0m\u001b[0mself\u001b[0m\u001b[1;33m.\u001b[0m\u001b[0msubdir\u001b[0m\u001b[1;33m,\u001b[0m \u001b[0mzip_name\u001b[0m\u001b[1;33m)\u001b[0m\u001b[1;33m)\u001b[0m\u001b[1;33m\u001b[0m\u001b[0m\n\u001b[0m\u001b[0;32m     81\u001b[0m                 \u001b[1;32mexcept\u001b[0m \u001b[0mLookupError\u001b[0m\u001b[1;33m:\u001b[0m \u001b[1;32mraise\u001b[0m \u001b[0me\u001b[0m\u001b[1;33m\u001b[0m\u001b[0m\n",
      "\u001b[1;32mC:\\Program Files\\WinPython\\python-3.5.3\\lib\\site-packages\\nltk-3.2.4-py3.5.egg\\nltk\\data.py\u001b[0m in \u001b[0;36mfind\u001b[1;34m(resource_name, paths)\u001b[0m\n\u001b[0;32m    652\u001b[0m     \u001b[0mresource_not_found\u001b[0m \u001b[1;33m=\u001b[0m \u001b[1;34m'\\n%s\\n%s\\n%s'\u001b[0m \u001b[1;33m%\u001b[0m \u001b[1;33m(\u001b[0m\u001b[0msep\u001b[0m\u001b[1;33m,\u001b[0m \u001b[0mmsg\u001b[0m\u001b[1;33m,\u001b[0m \u001b[0msep\u001b[0m\u001b[1;33m)\u001b[0m\u001b[1;33m\u001b[0m\u001b[0m\n\u001b[1;32m--> 653\u001b[1;33m     \u001b[1;32mraise\u001b[0m \u001b[0mLookupError\u001b[0m\u001b[1;33m(\u001b[0m\u001b[0mresource_not_found\u001b[0m\u001b[1;33m)\u001b[0m\u001b[1;33m\u001b[0m\u001b[0m\n\u001b[0m\u001b[0;32m    654\u001b[0m \u001b[1;33m\u001b[0m\u001b[0m\n",
      "\u001b[1;31mLookupError\u001b[0m: \n**********************************************************************\n  Resource 'corpora/stopwords.zip/stopwords/' not found.  Please\n  use the NLTK Downloader to obtain the resource:  >>>\n  nltk.download()\n  Searched in:\n    - 'C:\\\\Users\\\\alxmamaev/nltk_data'\n    - 'C:\\\\nltk_data'\n    - 'D:\\\\nltk_data'\n    - 'E:\\\\nltk_data'\n    - 'C:\\\\Program Files\\\\WinPython\\\\python-3.5.3\\\\nltk_data'\n    - 'C:\\\\Program Files\\\\WinPython\\\\python-3.5.3\\\\lib\\\\nltk_data'\n    - 'C:\\\\Users\\\\alxmamaev\\\\AppData\\\\Roaming\\\\nltk_data'\n**********************************************************************",
      "\nDuring handling of the above exception, another exception occurred:\n",
      "\u001b[1;31mLookupError\u001b[0m                               Traceback (most recent call last)",
      "\u001b[1;32m<ipython-input-74-629817c3cb38>\u001b[0m in \u001b[0;36m<module>\u001b[1;34m()\u001b[0m\n\u001b[0;32m      3\u001b[0m \u001b[1;33m\u001b[0m\u001b[0m\n\u001b[0;32m      4\u001b[0m \u001b[1;32mfrom\u001b[0m \u001b[0mnltk\u001b[0m\u001b[1;33m.\u001b[0m\u001b[0mcorpus\u001b[0m \u001b[1;32mimport\u001b[0m \u001b[0mstopwords\u001b[0m\u001b[1;33m\u001b[0m\u001b[0m\n\u001b[1;32m----> 5\u001b[1;33m \u001b[0mru_stopwords\u001b[0m \u001b[1;33m=\u001b[0m \u001b[0mstopwords\u001b[0m\u001b[1;33m.\u001b[0m\u001b[0mwords\u001b[0m\u001b[1;33m(\u001b[0m\u001b[1;34m\"russian\"\u001b[0m\u001b[1;33m)\u001b[0m\u001b[1;33m\u001b[0m\u001b[0m\n\u001b[0m\u001b[0;32m      6\u001b[0m \u001b[1;33m\u001b[0m\u001b[0m\n\u001b[0;32m      7\u001b[0m \u001b[1;32mfrom\u001b[0m \u001b[0mpymorphy2\u001b[0m \u001b[1;32mimport\u001b[0m \u001b[0mMorphAnalyzer\u001b[0m\u001b[1;33m\u001b[0m\u001b[0m\n",
      "\u001b[1;32mC:\\Program Files\\WinPython\\python-3.5.3\\lib\\site-packages\\nltk-3.2.4-py3.5.egg\\nltk\\corpus\\util.py\u001b[0m in \u001b[0;36m__getattr__\u001b[1;34m(self, attr)\u001b[0m\n\u001b[0;32m    114\u001b[0m             \u001b[1;32mraise\u001b[0m \u001b[0mAttributeError\u001b[0m\u001b[1;33m(\u001b[0m\u001b[1;34m\"LazyCorpusLoader object has no attribute '__bases__'\"\u001b[0m\u001b[1;33m)\u001b[0m\u001b[1;33m\u001b[0m\u001b[0m\n\u001b[0;32m    115\u001b[0m \u001b[1;33m\u001b[0m\u001b[0m\n\u001b[1;32m--> 116\u001b[1;33m         \u001b[0mself\u001b[0m\u001b[1;33m.\u001b[0m\u001b[0m__load\u001b[0m\u001b[1;33m(\u001b[0m\u001b[1;33m)\u001b[0m\u001b[1;33m\u001b[0m\u001b[0m\n\u001b[0m\u001b[0;32m    117\u001b[0m         \u001b[1;31m# This looks circular, but its not, since __load() changes our\u001b[0m\u001b[1;33m\u001b[0m\u001b[1;33m\u001b[0m\u001b[0m\n\u001b[0;32m    118\u001b[0m         \u001b[1;31m# __class__ to something new:\u001b[0m\u001b[1;33m\u001b[0m\u001b[1;33m\u001b[0m\u001b[0m\n",
      "\u001b[1;32mC:\\Program Files\\WinPython\\python-3.5.3\\lib\\site-packages\\nltk-3.2.4-py3.5.egg\\nltk\\corpus\\util.py\u001b[0m in \u001b[0;36m__load\u001b[1;34m(self)\u001b[0m\n\u001b[0;32m     79\u001b[0m             \u001b[1;32mexcept\u001b[0m \u001b[0mLookupError\u001b[0m \u001b[1;32mas\u001b[0m \u001b[0me\u001b[0m\u001b[1;33m:\u001b[0m\u001b[1;33m\u001b[0m\u001b[0m\n\u001b[0;32m     80\u001b[0m                 \u001b[1;32mtry\u001b[0m\u001b[1;33m:\u001b[0m \u001b[0mroot\u001b[0m \u001b[1;33m=\u001b[0m \u001b[0mnltk\u001b[0m\u001b[1;33m.\u001b[0m\u001b[0mdata\u001b[0m\u001b[1;33m.\u001b[0m\u001b[0mfind\u001b[0m\u001b[1;33m(\u001b[0m\u001b[1;34m'{}/{}'\u001b[0m\u001b[1;33m.\u001b[0m\u001b[0mformat\u001b[0m\u001b[1;33m(\u001b[0m\u001b[0mself\u001b[0m\u001b[1;33m.\u001b[0m\u001b[0msubdir\u001b[0m\u001b[1;33m,\u001b[0m \u001b[0mzip_name\u001b[0m\u001b[1;33m)\u001b[0m\u001b[1;33m)\u001b[0m\u001b[1;33m\u001b[0m\u001b[0m\n\u001b[1;32m---> 81\u001b[1;33m                 \u001b[1;32mexcept\u001b[0m \u001b[0mLookupError\u001b[0m\u001b[1;33m:\u001b[0m \u001b[1;32mraise\u001b[0m \u001b[0me\u001b[0m\u001b[1;33m\u001b[0m\u001b[0m\n\u001b[0m\u001b[0;32m     82\u001b[0m \u001b[1;33m\u001b[0m\u001b[0m\n\u001b[0;32m     83\u001b[0m         \u001b[1;31m# Load the corpus.\u001b[0m\u001b[1;33m\u001b[0m\u001b[1;33m\u001b[0m\u001b[0m\n",
      "\u001b[1;32mC:\\Program Files\\WinPython\\python-3.5.3\\lib\\site-packages\\nltk-3.2.4-py3.5.egg\\nltk\\corpus\\util.py\u001b[0m in \u001b[0;36m__load\u001b[1;34m(self)\u001b[0m\n\u001b[0;32m     76\u001b[0m         \u001b[1;32melse\u001b[0m\u001b[1;33m:\u001b[0m\u001b[1;33m\u001b[0m\u001b[0m\n\u001b[0;32m     77\u001b[0m             \u001b[1;32mtry\u001b[0m\u001b[1;33m:\u001b[0m\u001b[1;33m\u001b[0m\u001b[0m\n\u001b[1;32m---> 78\u001b[1;33m                 \u001b[0mroot\u001b[0m \u001b[1;33m=\u001b[0m \u001b[0mnltk\u001b[0m\u001b[1;33m.\u001b[0m\u001b[0mdata\u001b[0m\u001b[1;33m.\u001b[0m\u001b[0mfind\u001b[0m\u001b[1;33m(\u001b[0m\u001b[1;34m'{}/{}'\u001b[0m\u001b[1;33m.\u001b[0m\u001b[0mformat\u001b[0m\u001b[1;33m(\u001b[0m\u001b[0mself\u001b[0m\u001b[1;33m.\u001b[0m\u001b[0msubdir\u001b[0m\u001b[1;33m,\u001b[0m \u001b[0mself\u001b[0m\u001b[1;33m.\u001b[0m\u001b[0m__name\u001b[0m\u001b[1;33m)\u001b[0m\u001b[1;33m)\u001b[0m\u001b[1;33m\u001b[0m\u001b[0m\n\u001b[0m\u001b[0;32m     79\u001b[0m             \u001b[1;32mexcept\u001b[0m \u001b[0mLookupError\u001b[0m \u001b[1;32mas\u001b[0m \u001b[0me\u001b[0m\u001b[1;33m:\u001b[0m\u001b[1;33m\u001b[0m\u001b[0m\n\u001b[0;32m     80\u001b[0m                 \u001b[1;32mtry\u001b[0m\u001b[1;33m:\u001b[0m \u001b[0mroot\u001b[0m \u001b[1;33m=\u001b[0m \u001b[0mnltk\u001b[0m\u001b[1;33m.\u001b[0m\u001b[0mdata\u001b[0m\u001b[1;33m.\u001b[0m\u001b[0mfind\u001b[0m\u001b[1;33m(\u001b[0m\u001b[1;34m'{}/{}'\u001b[0m\u001b[1;33m.\u001b[0m\u001b[0mformat\u001b[0m\u001b[1;33m(\u001b[0m\u001b[0mself\u001b[0m\u001b[1;33m.\u001b[0m\u001b[0msubdir\u001b[0m\u001b[1;33m,\u001b[0m \u001b[0mzip_name\u001b[0m\u001b[1;33m)\u001b[0m\u001b[1;33m)\u001b[0m\u001b[1;33m\u001b[0m\u001b[0m\n",
      "\u001b[1;32mC:\\Program Files\\WinPython\\python-3.5.3\\lib\\site-packages\\nltk-3.2.4-py3.5.egg\\nltk\\data.py\u001b[0m in \u001b[0;36mfind\u001b[1;34m(resource_name, paths)\u001b[0m\n\u001b[0;32m    651\u001b[0m     \u001b[0msep\u001b[0m \u001b[1;33m=\u001b[0m \u001b[1;34m'*'\u001b[0m \u001b[1;33m*\u001b[0m \u001b[1;36m70\u001b[0m\u001b[1;33m\u001b[0m\u001b[0m\n\u001b[0;32m    652\u001b[0m     \u001b[0mresource_not_found\u001b[0m \u001b[1;33m=\u001b[0m \u001b[1;34m'\\n%s\\n%s\\n%s'\u001b[0m \u001b[1;33m%\u001b[0m \u001b[1;33m(\u001b[0m\u001b[0msep\u001b[0m\u001b[1;33m,\u001b[0m \u001b[0mmsg\u001b[0m\u001b[1;33m,\u001b[0m \u001b[0msep\u001b[0m\u001b[1;33m)\u001b[0m\u001b[1;33m\u001b[0m\u001b[0m\n\u001b[1;32m--> 653\u001b[1;33m     \u001b[1;32mraise\u001b[0m \u001b[0mLookupError\u001b[0m\u001b[1;33m(\u001b[0m\u001b[0mresource_not_found\u001b[0m\u001b[1;33m)\u001b[0m\u001b[1;33m\u001b[0m\u001b[0m\n\u001b[0m\u001b[0;32m    654\u001b[0m \u001b[1;33m\u001b[0m\u001b[0m\n\u001b[0;32m    655\u001b[0m \u001b[1;33m\u001b[0m\u001b[0m\n",
      "\u001b[1;31mLookupError\u001b[0m: \n**********************************************************************\n  Resource 'corpora/stopwords' not found.  Please use the NLTK\n  Downloader to obtain the resource:  >>> nltk.download()\n  Searched in:\n    - 'C:\\\\Users\\\\alxmamaev/nltk_data'\n    - 'C:\\\\nltk_data'\n    - 'D:\\\\nltk_data'\n    - 'E:\\\\nltk_data'\n    - 'C:\\\\Program Files\\\\WinPython\\\\python-3.5.3\\\\nltk_data'\n    - 'C:\\\\Program Files\\\\WinPython\\\\python-3.5.3\\\\lib\\\\nltk_data'\n    - 'C:\\\\Users\\\\alxmamaev\\\\AppData\\\\Roaming\\\\nltk_data'\n**********************************************************************"
     ]
    }
   ],
   "source": [
    "from sklearn.feature_extraction.text import TfidfVectorizer\n",
    "from sklearn.model_selection import train_test_split\n",
    "\n",
    "from nltk.corpus import stopwords\n",
    "ru_stopwords = stopwords.words(\"russian\")\n",
    "\n",
    "from pymorphy2 import MorphAnalyzer\n",
    "morph = MorphAnalyzer()"
   ]
  },
  {
   "cell_type": "code",
   "execution_count": null,
   "metadata": {
    "collapsed": true
   },
   "outputs": [],
   "source": [
    "class LemaTfidf(TfidfVectorizer):\n",
    "    def build_analyzer(self):\n",
    "        analyzer = super(TfidfVectorizer, self).build_analyzer()\n",
    "        return lambda doc: (morph.parse(word)[0].normal_form for word in analyzer(doc))\n",
    "\n",
    "tfidf = TfidfVectorizer(ngram_range=(1,2), stop_words=ru_stopwords, max_df=0.6)"
   ]
  },
  {
   "cell_type": "code",
   "execution_count": 7,
   "metadata": {
    "collapsed": true
   },
   "outputs": [],
   "source": [
    "vectors = tfidf.fit_transform(data[\"comment\"].get_values())"
   ]
  },
  {
   "cell_type": "code",
   "execution_count": 8,
   "metadata": {},
   "outputs": [
    {
     "data": {
      "text/plain": [
       "array([[ 0.,  0.,  0., ...,  0.,  0.,  0.]])"
      ]
     },
     "execution_count": 8,
     "metadata": {},
     "output_type": "execute_result"
    }
   ],
   "source": [
    "vectors[0].toarray()"
   ]
  },
  {
   "cell_type": "code",
   "execution_count": 9,
   "metadata": {},
   "outputs": [
    {
     "data": {
      "text/plain": [
       "404692"
      ]
     },
     "execution_count": 9,
     "metadata": {},
     "output_type": "execute_result"
    }
   ],
   "source": [
    "vectors.shape[1]"
   ]
  },
  {
   "cell_type": "code",
   "execution_count": 10,
   "metadata": {
    "collapsed": true
   },
   "outputs": [],
   "source": [
    "labels = data[\"reting\"].get_values()"
   ]
  },
  {
   "cell_type": "code",
   "execution_count": 11,
   "metadata": {
    "collapsed": true
   },
   "outputs": [],
   "source": [
    "x_train, x_test, y_train, y_test = train_test_split(vectors, labels, test_size=0.33, random_state=42)"
   ]
  },
  {
   "cell_type": "code",
   "execution_count": null,
   "metadata": {
    "collapsed": true
   },
   "outputs": [],
   "source": [
    "from sklearn.decomposition import TruncatedSVD\n",
    "\n",
    "svd = TruncatedSVD(600)\n",
    "x_train = svd.fit_transform(x_train)"
   ]
  },
  {
   "cell_type": "code",
   "execution_count": 12,
   "metadata": {
    "collapsed": true
   },
   "outputs": [],
   "source": [
    "from sklearn.linear_model import LinearRegression"
   ]
  },
  {
   "cell_type": "code",
   "execution_count": 13,
   "metadata": {
    "collapsed": true
   },
   "outputs": [],
   "source": [
    "lr = LinearRegression()"
   ]
  },
  {
   "cell_type": "code",
   "execution_count": 14,
   "metadata": {},
   "outputs": [
    {
     "data": {
      "text/plain": [
       "LinearRegression(copy_X=True, fit_intercept=True, n_jobs=1, normalize=False)"
      ]
     },
     "execution_count": 14,
     "metadata": {},
     "output_type": "execute_result"
    }
   ],
   "source": [
    "lr.fit(x_train, y_train)"
   ]
  },
  {
   "cell_type": "code",
   "execution_count": 15,
   "metadata": {},
   "outputs": [
    {
     "data": {
      "text/plain": [
       "0.40668393985760132"
      ]
     },
     "execution_count": 15,
     "metadata": {},
     "output_type": "execute_result"
    }
   ],
   "source": [
    "lr.score(x_test, y_test)"
   ]
  },
  {
   "cell_type": "code",
   "execution_count": 32,
   "metadata": {
    "collapsed": true
   },
   "outputs": [],
   "source": [
    "comments = data[\"comment\"].get_values()\n",
    "reting = data[\"reting\"].get_values()"
   ]
  },
  {
   "cell_type": "code",
   "execution_count": 13,
   "metadata": {
    "scrolled": true
   },
   "outputs": [
    {
     "data": {
      "text/plain": [
       "15587"
      ]
     },
     "execution_count": 13,
     "metadata": {},
     "output_type": "execute_result"
    }
   ],
   "source": [
    "data.shape[0]"
   ]
  },
  {
   "cell_type": "code",
   "execution_count": 87,
   "metadata": {},
   "outputs": [
    {
     "name": "stdout",
     "output_type": "stream",
     "text": [
      "343\n",
      "Купили машинку, т.к.  мало место в ванной и начитались хороших отзывов на сайте М-Видео. Машинкой не довольна. Помещается очень мало белья, т.к. очень узкий барабан. Если загружать полностью, вообще ничего не отстирывает, даже легкие, не въедающиеся пятна. Приходится класть белья понемногу и стирать по много раз. Большие вещи, такие как одеяло постирать нереально.  Машина прыгает по всей ванной. Собираюсь покупать другую, с большим объемом барабана, правда придется перевешивать дверь в ванной. Если у вас большая семья и много стирки не берите слишком узкие машины.\n",
      "1.0\n",
      "1.0\n"
     ]
    }
   ],
   "source": [
    "i = int(input())\n",
    "\n",
    "print(comments[i])\n",
    "print(round (lr.predict(tfidf.transform([comments[i]]))[0], 1))\n",
    "print(reting[i])"
   ]
  },
  {
   "cell_type": "code",
   "execution_count": 88,
   "metadata": {},
   "outputs": [
    {
     "name": "stdout",
     "output_type": "stream",
     "text": [
      "Купила сегодня,цена и качество устроили.Дома сразу прошел тест драйв,ни запаха,ни шума.Гладит отлично)))\n",
      "5.0\n"
     ]
    }
   ],
   "source": [
    "print(round (lr.predict(tfidf.transform([input()]))[0], 1))"
   ]
  },
  {
   "cell_type": "code",
   "execution_count": 52,
   "metadata": {},
   "outputs": [
    {
     "data": {
      "text/plain": [
       "(array([  92.,    1.,   28.,   12.,   15.,   55.,   13.,   83.,   40.,  584.]),\n",
       " array([ 1. ,  1.4,  1.8,  2.2,  2.6,  3. ,  3.4,  3.8,  4.2,  4.6,  5. ]),\n",
       " <a list of 10 Patch objects>)"
      ]
     },
     "execution_count": 52,
     "metadata": {},
     "output_type": "execute_result"
    },
    {
     "data": {
      "image/png": "[encoded data removed]",
      "text/plain": [
       "<matplotlib.figure.Figure at 0x664ee90>"
      ]
     },
     "metadata": {},
     "output_type": "display_data"
    }
   ],
   "source": [
    "plt.hist(data[~data[\"commentPositive\"].isnull()][\"reting\"])"
   ]
  },
  {
   "cell_type": "code",
   "execution_count": 66,
   "metadata": {},
   "outputs": [
    {
     "data": {
      "text/html": [
       "<div>\n",
       "<style>\n",
       "    .dataframe thead tr:only-child th {\n",
       "        text-align: right;\n",
       "    }\n",
       "\n",
       "    .dataframe thead th {\n",
       "        text-align: left;\n",
       "    }\n",
       "\n",
       "    .dataframe tbody tr th {\n",
       "        vertical-align: top;\n",
       "    }\n",
       "</style>\n",
       "<table border=\"1\" class=\"dataframe\">\n",
       "  <thead>\n",
       "    <tr style=\"text-align: right;\">\n",
       "      <th></th>\n",
       "      <th>sku</th>\n",
       "      <th>categoryLevel1Id</th>\n",
       "      <th>categoryLevel2Id</th>\n",
       "      <th>brandId</th>\n",
       "      <th>property</th>\n",
       "      <th>userName</th>\n",
       "      <th>reting</th>\n",
       "      <th>date</th>\n",
       "      <th>comment</th>\n",
       "      <th>commentNegative</th>\n",
       "      <th>commentPositive</th>\n",
       "    </tr>\n",
       "  </thead>\n",
       "  <tbody>\n",
       "  </tbody>\n",
       "</table>\n",
       "</div>"
      ],
      "text/plain": [
       "Empty DataFrame\n",
       "Columns: [sku, categoryLevel1Id, categoryLevel2Id, brandId, property, userName, reting, date, comment, commentNegative, commentPositive]\n",
       "Index: []"
      ]
     },
     "execution_count": 66,
     "metadata": {},
     "output_type": "execute_result"
    }
   ],
   "source": []
  },
  {
   "cell_type": "code",
   "execution_count": null,
   "metadata": {
    "collapsed": true
   },
   "outputs": [],
   "source": []
  }
 ],
 "metadata": {
  "kernelspec": {
   "display_name": "Python 3",
   "language": "python",
   "name": "python3"
  },
  "language_info": {
   "codemirror_mode": {
    "name": "ipython",
    "version": 3
   },
   "file_extension": ".py",
   "mimetype": "text/x-python",
   "name": "python",
   "nbconvert_exporter": "python",
   "pygments_lexer": "ipython3",
   "version": "3.5.3"
  }
 },
 "nbformat": 4,
 "nbformat_minor": 2
}
